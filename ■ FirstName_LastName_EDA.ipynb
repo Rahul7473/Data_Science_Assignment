{
 "cells": [
  {
   "cell_type": "code",
   "execution_count": null,
   "metadata": {
    "vscode": {
     "languageId": "plaintext"
    }
   },
   "outputs": [],
   "source": [
    "# Import necessary libraries\n",
    "import pandas as pd\n",
    "import numpy as np\n",
    "import matplotlib.pyplot as plt\n",
    "import seaborn as sns\n",
    "\n",
    "# Load the datasets\n",
    "customers = pd.read_csv(\"Customers.csv\")\n",
    "products = pd.read_csv(\"Products.csv\")\n",
    "transactions = pd.read_csv(\"Transactions.csv\")\n",
    "\n",
    "# Data overview\n",
    "print(\"Customers Dataset Overview:\")\n",
    "print(customers.info(), \"\\n\")\n",
    "print(\"Products Dataset Overview:\")\n",
    "print(products.info(), \"\\n\")\n",
    "print(\"Transactions Dataset Overview:\")\n",
    "print(transactions.info(), \"\\n\")\n",
    "\n",
    "# Check for missing values\n",
    "print(\"Missing Values in Customers:\")\n",
    "print(customers.isnull().sum(), \"\\n\")\n",
    "print(\"Missing Values in Products:\")\n",
    "print(products.isnull().sum(), \"\\n\")\n",
    "print(\"Missing Values in Transactions:\")\n",
    "print(transactions.isnull().sum(), \"\\n\")\n",
    "\n",
    "# Merging datasets\n",
    "merged_data = transactions.merge(customers, on=\"CustomerID\").merge(products, on=\"ProductID\")\n",
    "print(\"Merged Dataset Preview:\")\n",
    "print(merged_data.head())\n",
    "\n",
    "# Analysis 1: Revenue by Region\n",
    "revenue_by_region = merged_data.groupby(\"Region\")[\"TotalValue\"].sum()\n",
    "plt.figure(figsize=(8, 5))\n",
    "revenue_by_region.plot(kind=\"bar\", title=\"Revenue by Region\", ylabel=\"Total Revenue (USD)\", color='skyblue')\n",
    "plt.show()\n",
    "\n",
    "# Analysis 2: Top-selling products\n",
    "top_products = merged_data.groupby(\"ProductName\")[\"Quantity\"].sum().nlargest(10)\n",
    "plt.figure(figsize=(8, 5))\n",
    "top_products.plot(kind=\"bar\", title=\"Top 10 Products Sold\", ylabel=\"Quantity Sold\", color='orange')\n",
    "plt.show()\n",
    "\n",
    "# Analysis 3: Customer signup trends\n",
    "customers['SignupDate'] = pd.to_datetime(customers['SignupDate'])\n",
    "signup_trends = customers.groupby(customers['SignupDate'].dt.to_period(\"M\")).size()\n",
    "plt.figure(figsize=(10, 5))\n",
    "signup_trends.plot(kind=\"line\", title=\"Customer Signups Over Time\", ylabel=\"Number of Signups\", color='green')\n",
    "plt.show()\n",
    "\n",
    "# Analysis 4: High-value customers\n",
    "top_customers = merged_data.groupby(\"CustomerID\")[\"TotalValue\"].sum().nlargest(10)\n",
    "print(\"Top 10 Customers by Total Revenue:\")\n",
    "print(top_customers)\n",
    "\n",
    "# Analysis 5: Underperforming product categories\n",
    "category_sales = merged_data.groupby(\"Category\")[\"Quantity\"].sum()\n",
    "plt.figure(figsize=(8, 5))\n",
    "category_sales.plot(kind=\"bar\", title=\"Product Category Sales\", ylabel=\"Quantity Sold\", color='purple')\n",
    "plt.show()\n"
   ]
  }
 ],
 "metadata": {
  "language_info": {
   "name": "python"
  }
 },
 "nbformat": 4,
 "nbformat_minor": 2
}
