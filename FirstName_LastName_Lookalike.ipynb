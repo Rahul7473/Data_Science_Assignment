{
 "cells": [
  {
   "cell_type": "code",
   "execution_count": null,
   "metadata": {
    "vscode": {
     "languageId": "plaintext"
    }
   },
   "outputs": [],
   "source": [
    "# Import necessary libraries\n",
    "import pandas as pd\n",
    "from sklearn.metrics.pairwise import cosine_similarity\n",
    "from sklearn.preprocessing import StandardScaler\n",
    "\n",
    "# Load datasets\n",
    "customers = pd.read_csv(\"Customers.csv\")\n",
    "products = pd.read_csv(\"Products.csv\")\n",
    "transactions = pd.read_csv(\"Transactions.csv\")\n",
    "\n",
    "# Merge datasets\n",
    "data = transactions.merge(customers, on=\"CustomerID\").merge(products, on=\"ProductID\")\n",
    "\n",
    "# Aggregate transaction data for each customer\n",
    "customer_profiles = data.groupby(\"CustomerID\").agg({\n",
    "    \"Region\": \"first\",  # Take the first value for customer profile\n",
    "    \"Category\": lambda x: ' '.join(x),  # Combine categories as a single string\n",
    "    \"TotalValue\": \"sum\",  # Total spending\n",
    "    \"Quantity\": \"sum\"     # Total quantity purchased\n",
    "}).reset_index()\n",
    "\n",
    "# Encode Region and Category using one-hot encoding\n",
    "customer_profiles = pd.get_dummies(customer_profiles, columns=[\"Region\"], prefix=\"Region\")\n",
    "customer_profiles = pd.get_dummies(customer_profiles, columns=[\"Category\"], prefix=\"Category\")\n",
    "\n",
    "# Standardize numerical features\n",
    "scaler = StandardScaler()\n",
    "numerical_cols = [\"TotalValue\", \"Quantity\"]\n",
    "customer_profiles[numerical_cols] = scaler.fit_transform(customer_profiles[numerical_cols])\n",
    "\n",
    "# Compute similarity\n",
    "similarity_matrix = cosine_similarity(customer_profiles.drop(\"CustomerID\", axis=1))\n",
    "\n",
    "# Store results in a DataFrame\n",
    "similarity_df = pd.DataFrame(similarity_matrix, index=customer_profiles[\"CustomerID\"], columns=customer_profiles[\"CustomerID\"])\n",
    "\n",
    "# Create a mapping for lookalikes\n",
    "lookalike_map = {}\n",
    "\n",
    "# Loop over first 20 customers\n",
    "for cust_id in customer_profiles[\"CustomerID\"][:20]:\n",
    "    # Sort customers by similarity score (excluding self)\n",
    "    similar_customers = similarity_df[cust_id].sort_values(ascending=False).drop(cust_id)\n",
    "    top_3 = similar_customers.head(3)\n",
    "    \n",
    "    # Store in map\n",
    "    lookalike_map[cust_id] = list(zip(top_3.index, top_3.values))\n",
    "\n",
    "# Convert to DataFrame for Lookalike.csv\n",
    "lookalike_df = pd.DataFrame({\n",
    "    \"CustomerID\": lookalike_map.keys(),\n",
    "    \"Lookalikes\": [str(v) for v in lookalike_map.values()]\n",
    "})\n",
    "\n",
    "# Save the results to Lookalike.csv\n",
    "lookalike_df.to_csv(\"FirstName_LastName_Lookalike.csv\", index=False)\n",
    "\n",
    "print(\"Lookalike model completed. Results saved to 'FirstName_LastName_Lookalike.csv'.\")\n"
   ]
  }
 ],
 "metadata": {
  "language_info": {
   "name": "python"
  }
 },
 "nbformat": 4,
 "nbformat_minor": 2
}
