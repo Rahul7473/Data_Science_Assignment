{
 "cells": [
  {
   "cell_type": "code",
   "execution_count": null,
   "metadata": {
    "vscode": {
     "languageId": "plaintext"
    }
   },
   "outputs": [],
   "source": [
    "# Import necessary libraries\n",
    "import pandas as pd\n",
    "import numpy as np\n",
    "from sklearn.preprocessing import StandardScaler\n",
    "from sklearn.cluster import KMeans\n",
    "from sklearn.metrics import davies_bouldin_score\n",
    "import matplotlib.pyplot as plt\n",
    "import seaborn as sns\n",
    "\n",
    "# Load datasets\n",
    "customers = pd.read_csv(\"Customers.csv\")\n",
    "transactions = pd.read_csv(\"Transactions.csv\")\n",
    "\n",
    "# Merge datasets to include transaction information with customer profiles\n",
    "customer_data = transactions.merge(customers, on=\"CustomerID\")\n",
    "\n",
    "# Aggregate data by CustomerID\n",
    "customer_summary = customer_data.groupby(\"CustomerID\").agg({\n",
    "    \"TotalValue\": \"sum\",  # Total spending\n",
    "    \"Quantity\": \"sum\",    # Total quantity purchased\n",
    "    \"Region\": \"first\"      # Region of the customer\n",
    "}).reset_index()\n",
    "\n",
    "# One-hot encode the Region column\n",
    "customer_summary = pd.get_dummies(customer_summary, columns=[\"Region\"], prefix=\"Region\")\n",
    "\n",
    "# Standardize the numerical columns\n",
    "scaler = StandardScaler()\n",
    "numerical_features = [\"TotalValue\", \"Quantity\"]\n",
    "customer_summary[numerical_features] = scaler.fit_transform(customer_summary[numerical_features])\n",
    "\n",
    "# Choose the number of clusters\n",
    "n_clusters = 4\n",
    "\n",
    "# Apply K-Means clustering\n",
    "kmeans = KMeans(n_clusters=n_clusters, random_state=42)\n",
    "customer_summary[\"Cluster\"] = kmeans.fit_predict(customer_summary.drop(\"CustomerID\", axis=1))\n",
    "\n",
    "# Calculate Davies-Bouldin Index\n",
    "db_index = davies_bouldin_score(customer_summary.drop([\"CustomerID\", \"Cluster\"], axis=1), customer_summary[\"Cluster\"])\n",
    "print(f\"Davies-Bouldin Index: {db_index}\")\n",
    "\n",
    "# Visualize the clusters\n",
    "plt.figure(figsize=(10, 6))\n",
    "sns.scatterplot(\n",
    "    data=customer_summary,\n",
    "    x=\"TotalValue\",\n",
    "    y=\"Quantity\",\n",
    "    hue=\"Cluster\",\n",
    "    palette=\"viridis\",\n",
    "    s=100\n",
    ")\n",
    "plt.title(\"Customer Segments Based on Clustering\")\n",
    "plt.xlabel(\"Total Spending (Standardized)\")\n",
    "plt.ylabel(\"Total Quantity Purchased (Standardized)\")\n",
    "plt.legend(title=\"Cluster\")\n",
    "plt.show()\n",
    "\n",
    "# Save cluster assignments to a CSV\n",
    "customer_summary[[\"CustomerID\", \"Cluster\"]].to_csv(\"FirstName_LastName_Clustering.csv\", index=False)\n",
    "\n",
    "print(\"Clustering completed. Results saved to 'FirstName_LastName_Clustering.csv'.\")\n"
   ]
  }
 ],
 "metadata": {
  "language_info": {
   "name": "python"
  }
 },
 "nbformat": 4,
 "nbformat_minor": 2
}
